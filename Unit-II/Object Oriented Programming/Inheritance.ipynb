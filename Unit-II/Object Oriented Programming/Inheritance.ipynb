{
 "cells": [
  {
   "cell_type": "markdown",
   "metadata": {},
   "source": [
    "# Inheritance\n",
    "Inheritance is the capability of one class to derive or inherit the properties from another class. The class that derives properties is called the derived class or child class and the class from which the properties are being derived is called the base class or parent class. The benefits of inheritance are:\n",
    "\n",
    "1. It represents real-world relationships well.\n",
    "2. It provides the reusability of a code. We don’t have to write the same code again and again. Also, it allows us to add more features to a class without modifying it.\n",
    "3. It is transitive in nature, which means that if class B inherits from another class A, then all the subclasses of B would automatically inherit from class A."
   ]
  },
  {
   "cell_type": "markdown",
   "metadata": {},
   "source": [
    "# Types of Inheritance – \n",
    "### Single Inheritance:\n",
    "Single-level inheritance enables a derived class to inherit characteristics from a single-parent class.\n",
    "\n",
    "### Multilevel Inheritance:\n",
    "Multi-level inheritance enables a derived class to inherit properties from an immediate parent class which in turn inherits properties from his parent class.\n",
    "\n",
    "### Hierarchical Inheritance:\n",
    "Hierarchical level inheritance enables more than one derived class to inherit properties from a parent class.\n",
    "\n",
    "### Multiple Inheritance:\n",
    "Multiple level inheritance enables one derived class to inherit properties from more than one base class."
   ]
  },
  {
   "cell_type": "code",
   "execution_count": 1,
   "metadata": {},
   "outputs": [],
   "source": [
    "# Python code to demonstrate how parent constructors\n",
    "# are called.\n",
    "\n",
    "# parent class\n",
    "class Person(object):\n",
    "\n",
    " # __init__ is known as the constructor\n",
    " def __init__(self, name, idnumber):\n",
    "  self.name = name\n",
    "  self.idnumber = idnumber\n",
    "\n",
    " def display(self):\n",
    "  print(self.name)\n",
    "  print(self.idnumber)\n",
    "  \n",
    " def details(self):\n",
    "  print(\"My name is {}\".format(self.name))\n",
    "  print(\"IdNumber: {}\".format(self.idnumber))"
   ]
  },
  {
   "cell_type": "code",
   "execution_count": 2,
   "metadata": {},
   "outputs": [],
   "source": [
    "# child class\n",
    "class Employee(Person):\n",
    " def __init__(self, name, idnumber, salary, post):\n",
    "  self.salary = salary\n",
    "  self.post = post\n",
    "\n",
    "  # invoking the __init__ of the parent class\n",
    "  Person.__init__(self, name, idnumber)\n",
    "  \n",
    " def details(self):\n",
    "  print(\"My name is {}\".format(self.name))\n",
    "  print(\"IdNumber: {}\".format(self.idnumber))\n",
    "  print(\"Post: {}\".format(self.post))"
   ]
  },
  {
   "cell_type": "code",
   "execution_count": 4,
   "metadata": {},
   "outputs": [
    {
     "name": "stdout",
     "output_type": "stream",
     "text": [
      "Shivam\n",
      "886012\n",
      "My name is Shivam\n",
      "IdNumber: 886012\n",
      "Post: ML/AI Engineer\n"
     ]
    }
   ],
   "source": [
    "# creation of an object variable or an instance\n",
    "a = Employee('Shivam', 886012, 35000, \"ML/AI Engineer\")\n",
    "\n",
    "# calling a function of the class Person using\n",
    "# its instance\n",
    "a.display()\n",
    "a.details()\n",
    "\n",
    "\"\"\"\n",
    " we have created two classes i.e. Person (parent class) and Employee (Child Class). \n",
    " The Employee class inherits from the Person class. We can use the methods of the person \n",
    " class through employee class as seen in the display function in the above code. A child \n",
    " class can also modify the behavior of the parent class as seen through the details() method.\n",
    "\"\"\""
   ]
  },
  {
   "cell_type": "code",
   "execution_count": null,
   "metadata": {},
   "outputs": [],
   "source": []
  }
 ],
 "metadata": {
  "kernelspec": {
   "display_name": "Python 3",
   "language": "python",
   "name": "python3"
  },
  "language_info": {
   "codemirror_mode": {
    "name": "ipython",
    "version": 3
   },
   "file_extension": ".py",
   "mimetype": "text/x-python",
   "name": "python",
   "nbconvert_exporter": "python",
   "pygments_lexer": "ipython3",
   "version": "3.8.6"
  }
 },
 "nbformat": 4,
 "nbformat_minor": 4
}
