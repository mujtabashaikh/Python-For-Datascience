{
 "cells": [
  {
   "cell_type": "markdown",
   "metadata": {},
   "source": [
    "# Introduction to Iterators in Python\n",
    "Python is an Object-Oriented Language, everything in python is considered as an object, including variables, functions, lists, tuples, set, etc. There are some objects which are iterable, which means we can traverse over them and they will return their member value one by one.\n",
    "\n",
    "Examples of iterable objects are: List, Tuple, Dictionary\n",
    "\n",
    "Just like all other things, iterators in python are also objects. They are used for iterating over iterable objects. This simply means that we can use iterators on lists, tuples, dictionaries, and strings.\n",
    "\n",
    "In Python, iterators are everywhere, mostly they are hidden in plain sight.\n",
    "\n",
    "Iterators are implemented using two special methods in Python which are iter() and next(). They are collectively called iterator protocol."
   ]
  },
  {
   "cell_type": "markdown",
   "metadata": {},
   "source": [
    "Using Python Iterators\n",
    "The **iter()** method is used to create the iterator over the iterable object. It returns an iterator for the object you give it.\n",
    "\n",
    "The **next()** method returns the next item from the iterator.\n",
    "\n",
    "We can use both these methods to iterate over a variable.\n",
    "\n",
    "Here is the code explaining how to use iterators in python."
   ]
  },
  {
   "cell_type": "code",
   "execution_count": 2,
   "metadata": {},
   "outputs": [
    {
     "name": "stdout",
     "output_type": "stream",
     "text": [
      "<list_iterator object at 0x000001D3E0F890A0>\n",
      "Maggie\n",
      "Eggs\n",
      "Jelly\n"
     ]
    }
   ],
   "source": [
    "mySecret = [\"Maggie\", \"Eggs\", \"Jelly\"]\n",
    " \n",
    "myIter = iter(mySecret)\n",
    "print(myIter)\n",
    " \n",
    "print(next(myIter))\n",
    "print(next(myIter))\n",
    "print(next(myIter))\n"
   ]
  },
  {
   "cell_type": "markdown",
   "metadata": {},
   "source": [
    "In this code, we can see that printing myIter returns an iterator object.\n",
    "\n",
    "Once we have the iterator object we use next() to traverse through its values. In this way, we get all the values that are contained in the python iterator."
   ]
  },
  {
   "cell_type": "code",
   "execution_count": 3,
   "metadata": {},
   "outputs": [
    {
     "ename": "TypeError",
     "evalue": "'str' object is not an iterator",
     "output_type": "error",
     "traceback": [
      "\u001b[1;31m---------------------------------------------------------------------------\u001b[0m",
      "\u001b[1;31mTypeError\u001b[0m                                 Traceback (most recent call last)",
      "\u001b[1;32m<ipython-input-3-dbb7578d0fb9>\u001b[0m in \u001b[0;36m<module>\u001b[1;34m\u001b[0m\n\u001b[0;32m      1\u001b[0m \u001b[0ma\u001b[0m \u001b[1;33m=\u001b[0m \u001b[1;34m\"hello\"\u001b[0m \u001b[1;31m#defining a string\u001b[0m\u001b[1;33m\u001b[0m\u001b[1;33m\u001b[0m\u001b[0m\n\u001b[1;32m----> 2\u001b[1;33m \u001b[0mprint\u001b[0m\u001b[1;33m(\u001b[0m\u001b[0mnext\u001b[0m\u001b[1;33m(\u001b[0m\u001b[0ma\u001b[0m\u001b[1;33m)\u001b[0m\u001b[1;33m)\u001b[0m\u001b[1;33m\u001b[0m\u001b[1;33m\u001b[0m\u001b[0m\n\u001b[0m",
      "\u001b[1;31mTypeError\u001b[0m: 'str' object is not an iterator"
     ]
    }
   ],
   "source": [
    "a = \"hello\" #defining a string\n",
    "print(next(a))"
   ]
  },
  {
   "cell_type": "markdown",
   "metadata": {},
   "source": [
    "## How to Make Custom Iterators in Python?\n",
    "Just like any other thing in python, making a custom iterator from scratch is super easy. For making our own iterator we have to use two dunder/magic methods provided by Python.\n",
    "\n",
    "Dunder/Magic methods are methods that have two underscores before and after their name; their invocation generally happens internally from a class or some action.\n",
    "\n",
    "The two dunder methods we have to use are:\n",
    "\n",
    "__iter__()\n",
    "\n",
    "__next__() These are similar to iter() and next().\n",
    "\n",
    "__iter__() should return the iterator object. If required, some initialization can be performed.\n",
    "\n",
    "__next__() should return the next item in the sequence. On reaching the end it should raise StopIteration."
   ]
  },
  {
   "cell_type": "code",
   "execution_count": 5,
   "metadata": {},
   "outputs": [
    {
     "name": "stdout",
     "output_type": "stream",
     "text": [
      "0\n",
      "1\n",
      "0\n",
      "1\n"
     ]
    }
   ],
   "source": [
    "class ModOfTwo:\n",
    "    def __init__(self, max=0):\n",
    "        self.max = max\n",
    " \n",
    "    def __iter__(self):\n",
    "        self.n = 0\n",
    "        return self\n",
    " \n",
    "    def __next__(self):\n",
    "        if self.n <= self.max:\n",
    "            result = self.n % 2\n",
    "            self.n += 1\n",
    "            return result\n",
    "        else:\n",
    "            raise StopIteration\n",
    " \n",
    " \n",
    "# creating an object\n",
    "numbers = ModOfTwo(3)\n",
    " \n",
    "# creating an iterator object\n",
    "i = iter(numbers)\n",
    " \n",
    "print(next(i))#0 #0%2\n",
    "print(next(i))# 1 #1%2\n",
    "print(next(i))# 0 #2%2\n",
    "print(next(i))# 1 #3%2"
   ]
  },
  {
   "cell_type": "markdown",
   "metadata": {},
   "source": [
    "We made a class ModOfTwo which will give us the mod of the numbers starting from 0 to the number (which is 3 in our case).\n",
    "\n",
    "In the __init__() we defined a maximum number, this is the number till which we want to calculate mods.\n",
    "\n",
    "In the __iter__()we are setting the value of a variable n to 0. We will return the mod of this variable in the __next__().\n",
    "\n",
    "In __next__() we are first checking if the value of n is less than max or not, otherwise the iterator will become an infinite iterator. After the check, we are calculating and returning the mod and also incrementing the value of n by 1."
   ]
  },
  {
   "cell_type": "markdown",
   "metadata": {},
   "source": [
    "## Iterator vs Iterable in Python\n",
    "With so much programming jargon it is easy to forget the difference between an Iterator and Iterable.\n",
    "\n",
    "Here is a simple explanation.\n",
    "\n",
    "An iterator is an object which consists of __iter__() and __next__() (collectively these are known as iterator protocol).\n",
    "\n",
    "An iterable is anything we can loop over using a loop.\n",
    "\n",
    "This is the easiest explanation that will help you differentiate between the two."
   ]
  },
  {
   "cell_type": "markdown",
   "metadata": {},
   "source": [
    "## How for loop uses Iterators in Python\n",
    "for is the most common loop in Python. It can be used to iterate over any iterable. To have a better understanding of iterators let’s see how iterators are used inside of for loop in python."
   ]
  },
  {
   "cell_type": "code",
   "execution_count": 6,
   "metadata": {},
   "outputs": [
    {
     "name": "stdout",
     "output_type": "stream",
     "text": [
      "1\n",
      "2\n",
      "3\n",
      "4\n",
      "5\n"
     ]
    }
   ],
   "source": [
    "nums = [1, 2, 3, 4, 5]\n",
    "for i in nums:\n",
    "    print(i)"
   ]
  },
  {
   "cell_type": "code",
   "execution_count": 7,
   "metadata": {},
   "outputs": [
    {
     "name": "stdout",
     "output_type": "stream",
     "text": [
      "1\n",
      "2\n",
      "3\n",
      "4\n"
     ]
    }
   ],
   "source": [
    "#This is what happens behind the scenes\n",
    "\n",
    "nums = [1, 2, 3, 4]\n",
    "nums_iter_obj = iter(nums)\n",
    " \n",
    "while True:\n",
    "    try:\n",
    "        print(next(nums_iter_obj))\n",
    "    except StopIteration:\n",
    "        break"
   ]
  },
  {
   "cell_type": "code",
   "execution_count": 8,
   "metadata": {},
   "outputs": [
    {
     "data": {
      "text/plain": [
       "'\\nIn this code, we made an iterator object of the iterable nums.\\n\\nThen we made an infinite while loop in which there is a try-catch block where we stop \\nthe loop if we get StopIteration, else it will continue to print the next element in the iterable.\\n'"
      ]
     },
     "execution_count": 8,
     "metadata": {},
     "output_type": "execute_result"
    }
   ],
   "source": [
    "\"\"\"\n",
    "In this code, we made an iterator object of the iterable nums.\n",
    "\n",
    "Then we made an infinite while loop in which there is a try-catch block where we stop \n",
    "the loop if we get StopIteration, else it will continue to print the next element in the iterable.\n",
    "\"\"\""
   ]
  },
  {
   "cell_type": "markdown",
   "metadata": {},
   "source": [
    "## Infinite Iterators in Python\n",
    "Iterators iterate over an iterable (lists, tuples, string, etc.) and they are finite or they have a fixed length. But iterators can also be infinite or never ending.\n",
    "\n",
    "These python iterators are capable of running forever and special care needs to be taken while handling these.\n",
    "\n",
    "Let’s understand Infinite Iterators by making our own infinite iterator.\n",
    "\n",
    "This will be very similar to the custom iterator(ModOfTwo) we made earlier."
   ]
  },
  {
   "cell_type": "code",
   "execution_count": 9,
   "metadata": {},
   "outputs": [
    {
     "name": "stdout",
     "output_type": "stream",
     "text": [
      "Multiples of two are:\n",
      "0\n",
      "2\n",
      "4\n",
      "6\n",
      "8\n"
     ]
    }
   ],
   "source": [
    "class InfiniteIterator:\n",
    " \n",
    "    def __iter__(self):\n",
    "        self.n = 0\n",
    "        return self\n",
    " \n",
    "    def __next__(self):\n",
    "        result = self.n * 2\n",
    "        self.n += 1\n",
    "        return result\n",
    " \n",
    "multiplesOfTwo = InfiniteIterator()\n",
    " \n",
    "i = iter(multiplesOfTwo)\n",
    " \n",
    "print(\"Multiples of two are:\")\n",
    "print(next(i))\n",
    "print(next(i))\n",
    "print(next(i))\n",
    "print(next(i))\n",
    "print(next(i))\n"
   ]
  },
  {
   "cell_type": "markdown",
   "metadata": {},
   "source": [
    "This code is very similar to the code we wrote while making our custom iterator. Instead of calculating the mod here, we are calculating the multiples of 2.\n",
    "\n",
    "The main difference is, we do not have the max variable which we were using in the next(). The max variable there was responsible for raising an exception if all the values were traversed. In this code, we are not performing any such check. Because of the absence of that check, this iterator is infinite. It will keep returning you the multiples of 2 forever."
   ]
  }
 ],
 "metadata": {
  "kernelspec": {
   "display_name": "Python 3",
   "language": "python",
   "name": "python3"
  },
  "language_info": {
   "codemirror_mode": {
    "name": "ipython",
    "version": 3
   },
   "file_extension": ".py",
   "mimetype": "text/x-python",
   "name": "python",
   "nbconvert_exporter": "python",
   "pygments_lexer": "ipython3",
   "version": "3.8.6"
  }
 },
 "nbformat": 4,
 "nbformat_minor": 4
}
